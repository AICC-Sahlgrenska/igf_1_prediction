{
 "cells": [
  {
   "cell_type": "code",
   "execution_count": null,
   "metadata": {},
   "outputs": [],
   "source": [
    "import os\n",
    "import pandas as pd\n",
    "import numpy as np\n",
    "from joblib import dump\n",
    "import joblib\n",
    "import yaml\n",
    "import seaborn as sns\n",
    "import matplotlib.pyplot as plt"
   ]
  },
  {
   "cell_type": "code",
   "execution_count": null,
   "metadata": {},
   "outputs": [],
   "source": [
    "stage = \"train\"\n",
    "params = yaml.safe_load(open(\"/workspace/growthcurves/params.yaml\"))\n",
    "paths = params[\"config\"][\"paths\"]\n",
    "root_path = '/workspace/data/out/results_2024_09_25/target_3_months_sds/'\n",
    "data_save_root = f\"{root_path}/reports/figures/\"\n",
    "os.chdir(root_path)\n",
    "print(os.curdir)"
   ]
  },
  {
   "cell_type": "code",
   "execution_count": null,
   "metadata": {},
   "outputs": [],
   "source": [
    "# Load pre-trained model\n",
    "ebm_path = os.path.join(root_path, paths[\"models\"], \"other\", \"ExplainableBoostingRegressor_model.joblib\")\n",
    "ebm = joblib.load(ebm_path)\n",
    "\n",
    "linreg_path = os.path.join(root_path, paths[\"models\"], \"other\", \"LinearRegression_model.joblib\")\n",
    "linreg = joblib.load(linreg_path)\n",
    "\n",
    "symbolic_path = os.path.join(root_path, paths[\"models\"], \"symbolic\", \"gpg_model.joblib\")\n",
    "symbolic = joblib.load(symbolic_path)\n",
    "\n",
    "# Get data \n",
    "model_data_path = os.path.join(root_path, paths[\"features\"], \"modelling_dataset.joblib\")\n",
    "modelling_dataset = joblib.load(model_data_path)\n",
    "\n",
    "x_train = modelling_dataset['x_train']\n",
    "y_train = modelling_dataset['y_train']\n",
    "x_test = modelling_dataset['x_test']\n",
    "y_test = modelling_dataset['y_test']\n",
    "\n",
    "\n",
    "y_test['prediction_ebm'] = ebm.predict(x_test)\n",
    "y_test['prediction_symbolic'] = symbolic.predict(x_test)\n",
    "y_test['prediction_linreg'] = linreg.predict(x_test)"
   ]
  },
  {
   "cell_type": "code",
   "execution_count": null,
   "metadata": {},
   "outputs": [],
   "source": [
    "fig, axes = plt.subplots(1, 3, figsize=(15, 5), sharex=True, sharey=True)\n",
    "\n",
    "sns.scatterplot(ax=axes[0], data=y_test, x='target_igf_1_sds', y='prediction_linreg')\n",
    "plt.sca(axes[0])\n",
    "plt.plot([-1, 3], [-1, 3], color='black', linestyle='dashed')\n",
    "axes[0].set_title(\"Linear Regression\", size=20)\n",
    "sns.scatterplot(ax=axes[1], data=y_test, x='target_igf_1_sds', y='prediction_ebm')\n",
    "axes[1].set_title(\"Explainable Boosting Machine\", size=20)\n",
    "plt.sca(axes[1])\n",
    "plt.plot([-1, 3], [-1, 3], color='black', linestyle='dashed')\n",
    "sns.scatterplot(ax=axes[2], data=y_test, x='target_igf_1_sds', y='prediction_symbolic')\n",
    "axes[2].set_title(\"Symbolic Regression\", size=20)\n",
    "plt.sca(axes[2])\n",
    "plt.plot([-1, 3], [-1, 3], color='black', linestyle='dashed')\n",
    "\n",
    "axes[0].set_ylabel('IGF-1 SDS predicted', size=16)\n",
    "axes[0].set_xlabel('IGF-1 SDS true value', size=16)\n",
    "axes[1].set_xlabel('IGF-1 SDS true value', size=16)\n",
    "axes[2].set_xlabel('IGF-1 SDS true value', size=16)\n",
    "plt.tight_layout()\n",
    "\n",
    "plt.savefig(data_save_root + 'predictions_3_months.png')\n",
    "plt.show()"
   ]
  },
  {
   "cell_type": "code",
   "execution_count": null,
   "metadata": {},
   "outputs": [],
   "source": [
    "symbolic"
   ]
  }
 ],
 "metadata": {
  "kernelspec": {
   "display_name": "gpg-modified",
   "language": "python",
   "name": "python3"
  },
  "language_info": {
   "codemirror_mode": {
    "name": "ipython",
    "version": 3
   },
   "file_extension": ".py",
   "mimetype": "text/x-python",
   "name": "python",
   "nbconvert_exporter": "python",
   "pygments_lexer": "ipython3",
   "version": "3.9.19"
  }
 },
 "nbformat": 4,
 "nbformat_minor": 2
}
