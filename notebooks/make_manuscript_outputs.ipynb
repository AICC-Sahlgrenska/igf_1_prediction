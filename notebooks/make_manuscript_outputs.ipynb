{
 "cells": [
  {
   "cell_type": "code",
   "execution_count": null,
   "metadata": {},
   "outputs": [],
   "source": [
    "import os\n",
    "import pandas as pd\n",
    "import numpy as np\n",
    "from joblib import dump\n",
    "import joblib\n",
    "import yaml\n",
    "from interpret.glassbox import ExplainableBoostingRegressor\n",
    "from interpret import set_visualize_provider\n",
    "from interpret.provider import InlineProvider\n",
    "from interpret import show\n",
    "from interpret.glassbox._ebm._research import *"
   ]
  },
  {
   "cell_type": "code",
   "execution_count": null,
   "metadata": {},
   "outputs": [],
   "source": [
    "stage = \"train\"\n",
    "params = yaml.safe_load(open(\"/workspace/growthcurves/params.yaml\"))\n",
    "paths = params[\"config\"][\"paths\"]\n",
    "root_path = '/workspace/data/out/results_2024_09_25/target_3_months_sds/'\n",
    "data_save_root = f\"{root_path}/reports/figures/ebm_explainability/\"\n",
    "os.chdir(root_path)"
   ]
  },
  {
   "cell_type": "code",
   "execution_count": null,
   "metadata": {},
   "outputs": [],
   "source": [
    "# Get data \n",
    "model_data_path = os.path.join(root_path, paths[\"features\"], \"modelling_dataset.joblib\")\n",
    "modelling_dataset = joblib.load(model_data_path)\n",
    "\n",
    "x_train = modelling_dataset['x_train']\n",
    "y_train = modelling_dataset['y_train']\n",
    "x_test = modelling_dataset['x_test']\n",
    "y_test = modelling_dataset['y_test']"
   ]
  },
  {
   "cell_type": "code",
   "execution_count": null,
   "metadata": {},
   "outputs": [],
   "source": [
    "# Load pre-trained ebm\n",
    "model_path = os.path.join(root_path, paths[\"models\"], \"other\", \"ExplainableBoostingRegressor_model.joblib\")\n",
    "ebm = joblib.load(model_path)\n"
   ]
  },
  {
   "cell_type": "code",
   "execution_count": null,
   "metadata": {},
   "outputs": [],
   "source": [
    "ebm.intercept_"
   ]
  },
  {
   "cell_type": "code",
   "execution_count": null,
   "metadata": {},
   "outputs": [],
   "source": [
    "interesting_terms = ['igf_1_sds', 'height_velocity_gh_start_1']"
   ]
  },
  {
   "cell_type": "code",
   "execution_count": null,
   "metadata": {},
   "outputs": [],
   "source": [
    "ebm_terms = ebm.term_names_ \n",
    "for k, term in enumerate(interesting_terms):\n",
    "    curr_ind = [i for i, x in enumerate(ebm_terms) if x == interesting_terms[k]]\n",
    "    curr_array = ebm.term_scores_[curr_ind[0]]\n",
    "    sign_changes = np.where(np.diff(np.sign(curr_array)))[0]\n",
    "    filtered_sign_changes = sign_changes[(sign_changes > 0) & (sign_changes < len(curr_array)-2)]\n",
    "    indices = filtered_sign_changes + 1\n",
    "    print(indices)\n",
    "    print(f\"{ebm_terms[curr_ind[0]]} : {ebm.bins_[curr_ind[0]][0][indices][0]}\")\n"
   ]
  },
  {
   "cell_type": "code",
   "execution_count": null,
   "metadata": {},
   "outputs": [],
   "source": [
    "ebm.bins_[curr_ind[0]][0]"
   ]
  },
  {
   "cell_type": "code",
   "execution_count": null,
   "metadata": {},
   "outputs": [],
   "source": [
    "indices"
   ]
  }
 ],
 "metadata": {
  "kernelspec": {
   "display_name": "gpg-modified",
   "language": "python",
   "name": "python3"
  },
  "language_info": {
   "codemirror_mode": {
    "name": "ipython",
    "version": 3
   },
   "file_extension": ".py",
   "mimetype": "text/x-python",
   "name": "python",
   "nbconvert_exporter": "python",
   "pygments_lexer": "ipython3",
   "version": "3.9.19"
  }
 },
 "nbformat": 4,
 "nbformat_minor": 2
}
